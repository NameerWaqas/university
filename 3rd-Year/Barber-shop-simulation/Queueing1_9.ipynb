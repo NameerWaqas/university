{
  "nbformat": 4,
  "nbformat_minor": 0,
  "metadata": {
    "colab": {
      "name": "Queueing1.9",
      "provenance": [],
      "collapsed_sections": [
        "jA0DpyhiETnQ"
      ]
    },
    "kernelspec": {
      "name": "python3",
      "display_name": "Python 3"
    }
  },
  "cells": [
    {
      "cell_type": "markdown",
      "metadata": {
        "id": "S_o_tBVbDsoY"
      },
      "source": [
        "# Single Server Quying System\n",
        "## Problem 1.9"
      ]
    },
    {
      "cell_type": "markdown",
      "metadata": {
        "id": "jA0DpyhiETnQ"
      },
      "source": [
        "### Overall Project Architecture\n",
        "\n",
        "> ### Coding Paradigm\n",
        ">- [ ] OOP\n",
        "- [x] Functional\n",
        "- [ ] Scripting\n",
        "\n",
        "> ### Unit of time\n",
        ">- [X] Minutes\n",
        "\n",
        "> ### State of the server will be validated using boolean values\n",
        "\n",
        "> ### Randomness will be achieved using psedou random generator first and will be proceeded by adding the last generated randomnunmber to the curently generated number.\n",
        "\n",
        "> ### Values to be noted\n",
        ">- [x] Arrival Time = $t_{i}$ \n",
        "- [x] Inter arrival time = $A_{i}$ = $t_{i} - t_{i-1}$\n",
        "- [x] Waiting in queue = $W_{i}$ = \n",
        "- [x] Service time = $S_{i}$ = \n",
        "- [x] Completion(Departure) Time =  $D_{i}$ = \n",
        "\n",
        "### For the main code and 1.7 we'll not terminate the simulation until queue overflows or all customers has been served."
      ]
    },
    {
      "cell_type": "markdown",
      "metadata": {
        "id": "6Zz6jkEANbn-"
      },
      "source": [
        "### All Imports"
      ]
    },
    {
      "cell_type": "code",
      "metadata": {
        "id": "bt9WHRo2EDHA"
      },
      "source": [
        "import random\n",
        "from time import sleep"
      ],
      "execution_count": 1,
      "outputs": []
    },
    {
      "cell_type": "markdown",
      "metadata": {
        "id": "s6xWTZp3WjCH"
      },
      "source": [
        "### Generating Arrival and Service Time, $t_{i}$ , $S_{i}$ "
      ]
    },
    {
      "cell_type": "code",
      "metadata": {
        "id": "7jFaKpfDNeF8"
      },
      "source": [
        "def generateArrivalAndServiceTime():\n",
        "    global arrivalTime,serviceTime\n",
        "    for i in range(0,10):\n",
        "        if i : \n",
        "            arrivalTimeTemp = random.randint(1,5) + arrivalTime[i-1]\n",
        "        else: \n",
        "            arrivalTimeTemp = random.randint(1,5)\n",
        "        # serviceTimeTemp = random.randint(6,10) part of original code\n",
        "        serviceTimeTemp = random.randint(6,20)\n",
        "\n",
        "        arrivalTime.append(arrivalTimeTemp)\n",
        "        serviceTime.append(serviceTimeTemp)"
      ],
      "execution_count": 2,
      "outputs": []
    },
    {
      "cell_type": "markdown",
      "metadata": {
        "id": "tjPDldaIPfdL"
      },
      "source": [
        "### Calculating Inter Arrival Time $A_{i}$"
      ]
    },
    {
      "cell_type": "code",
      "metadata": {
        "id": "QG27oLilN-dW"
      },
      "source": [
        "def calculateInterArrivalTime():\n",
        "    global arrivalTime\n",
        "    for i in range(len(arrivalTime)):\n",
        "        if i:\n",
        "            temp = arrivalTime[i] - arrivalTime[i-1] \n",
        "        else:\n",
        "            temp = arrivalTime[i]\n",
        "        # print(\"Inter Arrival time for \" +str(i+1) +\" event: \" + str(temp))"
      ],
      "execution_count": 3,
      "outputs": []
    },
    {
      "cell_type": "markdown",
      "metadata": {
        "id": "70jTUqqlia9t"
      },
      "source": [
        "### Calculating Waiting Time"
      ]
    },
    {
      "cell_type": "code",
      "metadata": {
        "id": "qm57vgkmioig"
      },
      "source": [
        "def calculateWaitingTime(i):\n",
        "    # global queue\n",
        "    global waitingTime,serverIsBusy,completionTime,arrivalTime\n",
        "\n",
        "    if serverIsBusy:\n",
        "        waitingTime.append(completionTime[i-1]-arrivalTime[i])\n",
        "        \n",
        "    else:\n",
        "        waitingTime.append(0)\n",
        "        serverIsBusy=True"
      ],
      "execution_count": 4,
      "outputs": []
    },
    {
      "cell_type": "markdown",
      "metadata": {
        "id": "4adUpjtOiffa"
      },
      "source": [
        "### Calculating Completion Time"
      ]
    },
    {
      "cell_type": "code",
      "metadata": {
        "id": "NPLRd-NHiuid"
      },
      "source": [
        "def calculateCompletionTime(i):\n",
        "    global completionTime,waitingTime,arrivalTime\n",
        "\n",
        "    completionTime.append(arrivalTime[i]+serviceTime[i]+waitingTime[i])\n",
        "    # printEventDetails(i)\n",
        "    # print(str(completionTime[i])+\" , completion time\\n\")"
      ],
      "execution_count": 5,
      "outputs": []
    },
    {
      "cell_type": "markdown",
      "metadata": {
        "id": "tv-PtAVB3u0H"
      },
      "source": [
        "## Print Details"
      ]
    },
    {
      "cell_type": "code",
      "metadata": {
        "id": "MN3oD6zx34Ya"
      },
      "source": [
        "def printEventDetails(i):\n",
        "    global arrivalTime,serviceTime,waitingTime,completionTime\n",
        "    print(\"\\nArrival Time:\" + str(arrivalTime[i]) +\"\\n Service Time: \" + str(serviceTime[i]) +\"\\n Waiting Time:\" +str(waitingTime[i])+\"\\nCompletion time: \" +str(completionTime[i]))\n"
      ],
      "execution_count": 6,
      "outputs": []
    },
    {
      "cell_type": "markdown",
      "metadata": {
        "id": "i7C7RNDs1gsE"
      },
      "source": [
        "## Calculations"
      ]
    },
    {
      "cell_type": "code",
      "metadata": {
        "id": "fZ2iDsAH1vga"
      },
      "source": [
        "def Calculations():\n",
        "    global serverIsBusy,arrivalTime,serviceTime,waitingTime,completionTime\n",
        "    generateArrivalAndServiceTime()\n",
        "    \n",
        "    calculateInterArrivalTime()\n",
        "    for i in range(len(arrivalTime)):\n",
        "        calculateWaitingTime(i)\n",
        "        calculateCompletionTime(i)\n",
        "    serverIsBusy=False  "
      ],
      "execution_count": 7,
      "outputs": []
    },
    {
      "cell_type": "markdown",
      "metadata": {
        "id": "qH-_wf0U9JGP"
      },
      "source": [
        "# Simulation"
      ]
    },
    {
      "cell_type": "code",
      "metadata": {
        "id": "6WpisICL9OtD"
      },
      "source": [
        "def simulateSingleServerQueuingSystem():\n",
        "\n",
        "    global completionTime,arrivalTime,clock,queue,event,serverIsBusy,custInQueue,timeAvgNumInSys,avgTtlTimeInSys\n",
        "    global maxQueueLen, waitingTime\n",
        "\n",
        "    currentArrival=0\n",
        "    inServer = 1\n",
        "    print(\"Clock \\t Event \\t Status \\t i \\t ti \\t Ci \\tQPopulation \\t\\t State\")\n",
        "    print(str(0)+\" \\t \"+str(0)+\" \\t \"+\"Start\"+\" \\t\\t \"+\"--\"+\" \\t \"+\"--\"+\"\\t\"+\"--\"+\" \\t \"+str(0)+\" \\t\\t\\t \"+\"Idle\")\n",
        "\n",
        "    # while clock is not 60 and queue <= 10: part of original code\n",
        "    while queue <= 10:\n",
        "\n",
        "        sleep(0.05) # Change the value later on\n",
        "\n",
        "        if maxQueueLen<queue: maxQueueLen=queue\n",
        "\n",
        "        if clock in arrivalTime:\n",
        "            custInQueue+=queue # calculating summation of customers in queue.\n",
        "            event+=1\n",
        "            currentArrival+=1\n",
        "            if serverIsBusy == False:\n",
        "                serverIsBusy=True\n",
        "            else:\n",
        "                queue+=1\n",
        "            generateReport(\"arrival\",currentArrival-1)\n",
        "        \n",
        "        if clock in completionTime:\n",
        "            custInQueue+=queue # calculating summation of customers in queue.\n",
        "            event+=1\n",
        "            if queue ==0:\n",
        "                serverIsBusy = False\n",
        "                generateReport(\"completion\",inServer-1)  \n",
        "                break\n",
        "\n",
        "            else:\n",
        "                queue-=1\n",
        "                generateReport(\"completion\",inServer-1)  \n",
        "                inServer +=1\n",
        "\n",
        "        clock+=1\n",
        "    print(\"\\nSimulation End\") if queue != 11 else print(\"Error: Queue is full\") \n",
        "\n",
        "    calculationsFor1Dot7(custInQueue,event,completionTime,arrivalTime,maxQueueLen,waitingTime)\n"
      ],
      "execution_count": 8,
      "outputs": []
    },
    {
      "cell_type": "markdown",
      "metadata": {
        "id": "qLSKtkJh2Dmh"
      },
      "source": [
        "# Calculations For 1.7"
      ]
    },
    {
      "cell_type": "code",
      "metadata": {
        "id": "3Mty-awv2IGu"
      },
      "source": [
        "def calculationsFor1Dot7(custInQueue,event,completionTime,arrivalTime,maxQueueLen,waitingTime):\n",
        "    timeAvgNumInSys = (custInQueue+(event-1))/event#                            part a 1.7             \n",
        "    avgTtlTimeInSys = (sum(completionTime)-sum(arrivalTime))/len(arrivalTime)#  part b 1.7\n",
        "    print(\"a) The Time-Average number in the sysytem: \"+str(timeAvgNumInSys))\n",
        "    print(\"b) The Average total time in the system: \"+str(avgTtlTimeInSys))\n",
        "    print(\"c) The Max queue length : \"+str(maxQueueLen))#                       part c 1.7                        \n",
        "    print(\"d) The Max delay in queue: \"+str(max(waitingTime)))#                 part d 1.7\n",
        "    #********** calculation for                                                 part e 1.7\n",
        "    tmpLstHldngDiffOfCmpNdArvlTm = []\n",
        "    for i in range(len(arrivalTime)):\n",
        "        tmpLstHldngDiffOfCmpNdArvlTm.append(completionTime[i]-arrivalTime[i])\n",
        "    print(\"e) The Max time in the system: \"+str(max(tmpLstHldngDiffOfCmpNdArvlTm)))\n",
        "    #**********                                                            end  part e 1.7\n",
        "    #********** calculation for \n",
        "    countForExWaiters=0#                                                         part f 1.7\n",
        "    for waiter in waitingTime:\n",
        "        if waiter>60:\n",
        "            countForExWaiters+=1\n",
        "    print(\"f) The proportion of customers having a delay in queue in excess of 1 minute: \"+str(countForExWaiters)+\" : \"+str(len(arrivalTime)))\n",
        "    #********** calculation for                                              end    part f 1.7\n",
        "\n"
      ],
      "execution_count": 9,
      "outputs": []
    },
    {
      "cell_type": "markdown",
      "metadata": {
        "id": "luwv49Em93zh"
      },
      "source": [
        "# Report Generation"
      ]
    },
    {
      "cell_type": "code",
      "metadata": {
        "id": "n3JoZJQN97rq"
      },
      "source": [
        "def generateReport(status,i):\n",
        "    global event,clock,arrivalTime,completionTime,queue,serverIsBusy\n",
        "    if status==\"arrival\":\n",
        "        print(str(clock)+\" \\t \"+str(event)+\" \\t \"+str(status)+\" \\t \"+str(i+1)+\" \\t \"+str(arrivalTime[i])+\"\\t\"+\"--\"+\" \\t \"+str(queue)+\" \\t\\t\\t \"+str(\"Busy\" if serverIsBusy else \"Idle\"))\n",
        "\n",
        "    else:\n",
        "        print(str(clock)+\" \\t \"+str(event)+\" \\t \"+str(status)+\" \\t \"+str(i+1)+\" \\t \"+\"--\\t\"+str(completionTime[i])+\" \\t \"+str(queue)+\" \\t\\t\\t \"+str(\"Busy\" if serverIsBusy else \"Idle\"))\n",
        "\n",
        "    # Clock Event Status i ti Ci QueuePopulation state\n",
        "\n",
        "    pass"
      ],
      "execution_count": 10,
      "outputs": []
    },
    {
      "cell_type": "markdown",
      "metadata": {
        "id": "cvnWryL9WYhv"
      },
      "source": [
        "## Main Execution"
      ]
    },
    {
      "cell_type": "code",
      "metadata": {
        "id": "QRehhhVORmmW",
        "colab": {
          "base_uri": "https://localhost:8080/"
        },
        "outputId": "cfb13eca-e3f2-4235-e38d-85a5c1214795"
      },
      "source": [
        "if __name__ == \"__main__\":\n",
        "    arrivalTime,serviceTime,serverIsBusy,waitingTime,completionTime\n",
        "\n",
        "    for i in range(1,10):# Looping 10 times as required in Problem 1.9\n",
        "        print(\"\\n Simulation : \"+str(i))\n",
        "        arrivalTime=[]                  #\n",
        "        serviceTime=[]                  #\n",
        "        serverIsBusy = False            #   GLOBAL VARIABLES\n",
        "        waitingTime=[]                  #\n",
        "        completionTime=[]               #\n",
        "        Calculations()\n",
        "\n",
        "        clock = 0\n",
        "        queue = 0 #count of waiting entities\n",
        "        event = 0\n",
        "\n",
        "        custInQueue = 0 # ,                                                         part a                                      \n",
        "        timeAvgNumInSys = 0 # (custInQueue + event -1)/event                        part a\n",
        "        avgTtlTimeInSys = 0 #  sum(Ci-Ti)/num                                       part b\n",
        "        maxQueueLen = 0#                                                            part c\n",
        "        \n",
        "\n",
        "\n",
        "        simulateSingleServerQueuingSystem()\n",
        "\n",
        "        # ====================== Simulation End ===================="
      ],
      "execution_count": 13,
      "outputs": [
        {
          "output_type": "stream",
          "text": [
            "\n",
            " Simulation : 1\n",
            "Clock \t Event \t Status \t i \t ti \t Ci \tQPopulation \t\t State\n",
            "0 \t 0 \t Start \t\t -- \t --\t-- \t 0 \t\t\t Idle\n",
            "4 \t 1 \t arrival \t 1 \t 4\t-- \t 0 \t\t\t Busy\n",
            "7 \t 2 \t arrival \t 2 \t 7\t-- \t 1 \t\t\t Busy\n",
            "8 \t 3 \t arrival \t 3 \t 8\t-- \t 2 \t\t\t Busy\n",
            "10 \t 4 \t arrival \t 4 \t 10\t-- \t 3 \t\t\t Busy\n",
            "15 \t 5 \t arrival \t 5 \t 15\t-- \t 4 \t\t\t Busy\n",
            "17 \t 6 \t arrival \t 6 \t 17\t-- \t 5 \t\t\t Busy\n",
            "21 \t 7 \t arrival \t 7 \t 21\t-- \t 6 \t\t\t Busy\n",
            "21 \t 8 \t completion \t 1 \t --\t21 \t 5 \t\t\t Busy\n",
            "22 \t 9 \t arrival \t 8 \t 22\t-- \t 6 \t\t\t Busy\n",
            "24 \t 10 \t arrival \t 9 \t 24\t-- \t 7 \t\t\t Busy\n",
            "26 \t 11 \t arrival \t 10 \t 26\t-- \t 8 \t\t\t Busy\n",
            "38 \t 12 \t completion \t 2 \t --\t38 \t 7 \t\t\t Busy\n",
            "57 \t 13 \t completion \t 3 \t --\t57 \t 6 \t\t\t Busy\n",
            "73 \t 14 \t completion \t 4 \t --\t73 \t 5 \t\t\t Busy\n",
            "79 \t 15 \t completion \t 5 \t --\t79 \t 4 \t\t\t Busy\n",
            "97 \t 16 \t completion \t 6 \t --\t97 \t 3 \t\t\t Busy\n",
            "103 \t 17 \t completion \t 7 \t --\t103 \t 2 \t\t\t Busy\n",
            "120 \t 18 \t completion \t 8 \t --\t120 \t 1 \t\t\t Busy\n",
            "127 \t 19 \t completion \t 9 \t --\t127 \t 0 \t\t\t Busy\n",
            "139 \t 20 \t completion \t 10 \t --\t139 \t 0 \t\t\t Idle\n",
            "\n",
            "Simulation End\n",
            "a) The Time-Average number in the sysytem: 4.7\n",
            "b) The Average total time in the system: 70.0\n",
            "c) The Max queue length : 8\n",
            "d) The Max delay in queue: 101\n",
            "e) The Max time in the system: 113\n",
            "f) The proportion of customers having a delay in queue in excess of 1 minute: 5 : 10\n",
            "\n",
            " Simulation : 2\n",
            "Clock \t Event \t Status \t i \t ti \t Ci \tQPopulation \t\t State\n",
            "0 \t 0 \t Start \t\t -- \t --\t-- \t 0 \t\t\t Idle\n",
            "2 \t 1 \t arrival \t 1 \t 2\t-- \t 0 \t\t\t Busy\n",
            "3 \t 2 \t arrival \t 2 \t 3\t-- \t 1 \t\t\t Busy\n",
            "8 \t 3 \t arrival \t 3 \t 8\t-- \t 2 \t\t\t Busy\n",
            "11 \t 4 \t arrival \t 4 \t 11\t-- \t 3 \t\t\t Busy\n",
            "13 \t 5 \t completion \t 1 \t --\t13 \t 2 \t\t\t Busy\n",
            "14 \t 6 \t arrival \t 5 \t 14\t-- \t 3 \t\t\t Busy\n",
            "19 \t 7 \t arrival \t 6 \t 19\t-- \t 4 \t\t\t Busy\n",
            "21 \t 8 \t arrival \t 7 \t 21\t-- \t 5 \t\t\t Busy\n",
            "22 \t 9 \t completion \t 2 \t --\t22 \t 4 \t\t\t Busy\n",
            "26 \t 10 \t arrival \t 8 \t 26\t-- \t 5 \t\t\t Busy\n",
            "27 \t 11 \t arrival \t 9 \t 27\t-- \t 6 \t\t\t Busy\n",
            "32 \t 12 \t arrival \t 10 \t 32\t-- \t 7 \t\t\t Busy\n",
            "39 \t 13 \t completion \t 3 \t --\t39 \t 6 \t\t\t Busy\n",
            "53 \t 14 \t completion \t 4 \t --\t53 \t 5 \t\t\t Busy\n",
            "65 \t 15 \t completion \t 5 \t --\t65 \t 4 \t\t\t Busy\n",
            "74 \t 16 \t completion \t 6 \t --\t74 \t 3 \t\t\t Busy\n",
            "82 \t 17 \t completion \t 7 \t --\t82 \t 2 \t\t\t Busy\n",
            "96 \t 18 \t completion \t 8 \t --\t96 \t 1 \t\t\t Busy\n",
            "104 \t 19 \t completion \t 9 \t --\t104 \t 0 \t\t\t Busy\n",
            "121 \t 20 \t completion \t 10 \t --\t121 \t 0 \t\t\t Idle\n",
            "\n",
            "Simulation End\n",
            "a) The Time-Average number in the sysytem: 4.1\n",
            "b) The Average total time in the system: 50.6\n",
            "c) The Max queue length : 7\n",
            "d) The Max delay in queue: 72\n",
            "e) The Max time in the system: 89\n",
            "f) The proportion of customers having a delay in queue in excess of 1 minute: 2 : 10\n",
            "\n",
            " Simulation : 3\n",
            "Clock \t Event \t Status \t i \t ti \t Ci \tQPopulation \t\t State\n",
            "0 \t 0 \t Start \t\t -- \t --\t-- \t 0 \t\t\t Idle\n",
            "1 \t 1 \t arrival \t 1 \t 1\t-- \t 0 \t\t\t Busy\n",
            "6 \t 2 \t arrival \t 2 \t 6\t-- \t 1 \t\t\t Busy\n",
            "11 \t 3 \t arrival \t 3 \t 11\t-- \t 2 \t\t\t Busy\n",
            "13 \t 4 \t completion \t 1 \t --\t13 \t 1 \t\t\t Busy\n",
            "14 \t 5 \t arrival \t 4 \t 14\t-- \t 2 \t\t\t Busy\n",
            "19 \t 6 \t arrival \t 5 \t 19\t-- \t 3 \t\t\t Busy\n",
            "21 \t 7 \t completion \t 2 \t --\t21 \t 2 \t\t\t Busy\n",
            "23 \t 8 \t arrival \t 6 \t 23\t-- \t 3 \t\t\t Busy\n",
            "28 \t 9 \t arrival \t 7 \t 28\t-- \t 4 \t\t\t Busy\n",
            "29 \t 10 \t arrival \t 8 \t 29\t-- \t 5 \t\t\t Busy\n",
            "33 \t 11 \t arrival \t 9 \t 33\t-- \t 6 \t\t\t Busy\n",
            "34 \t 12 \t arrival \t 10 \t 34\t-- \t 7 \t\t\t Busy\n",
            "41 \t 13 \t completion \t 3 \t --\t41 \t 6 \t\t\t Busy\n",
            "50 \t 14 \t completion \t 4 \t --\t50 \t 5 \t\t\t Busy\n",
            "57 \t 15 \t completion \t 5 \t --\t57 \t 4 \t\t\t Busy\n",
            "67 \t 16 \t completion \t 6 \t --\t67 \t 3 \t\t\t Busy\n",
            "76 \t 17 \t completion \t 7 \t --\t76 \t 2 \t\t\t Busy\n",
            "83 \t 18 \t completion \t 8 \t --\t83 \t 1 \t\t\t Busy\n",
            "94 \t 19 \t completion \t 9 \t --\t94 \t 0 \t\t\t Busy\n",
            "109 \t 20 \t completion \t 10 \t --\t109 \t 0 \t\t\t Idle\n",
            "\n",
            "Simulation End\n",
            "a) The Time-Average number in the sysytem: 3.8\n",
            "b) The Average total time in the system: 41.3\n",
            "c) The Max queue length : 7\n",
            "d) The Max delay in queue: 60\n",
            "e) The Max time in the system: 75\n",
            "f) The proportion of customers having a delay in queue in excess of 1 minute: 0 : 10\n",
            "\n",
            " Simulation : 4\n",
            "Clock \t Event \t Status \t i \t ti \t Ci \tQPopulation \t\t State\n",
            "0 \t 0 \t Start \t\t -- \t --\t-- \t 0 \t\t\t Idle\n",
            "4 \t 1 \t arrival \t 1 \t 4\t-- \t 0 \t\t\t Busy\n",
            "6 \t 2 \t arrival \t 2 \t 6\t-- \t 1 \t\t\t Busy\n",
            "10 \t 3 \t arrival \t 3 \t 10\t-- \t 2 \t\t\t Busy\n",
            "11 \t 4 \t completion \t 1 \t --\t11 \t 1 \t\t\t Busy\n",
            "13 \t 5 \t arrival \t 4 \t 13\t-- \t 2 \t\t\t Busy\n",
            "18 \t 6 \t arrival \t 5 \t 18\t-- \t 3 \t\t\t Busy\n",
            "21 \t 7 \t completion \t 2 \t --\t21 \t 2 \t\t\t Busy\n",
            "22 \t 8 \t arrival \t 6 \t 22\t-- \t 3 \t\t\t Busy\n",
            "25 \t 9 \t arrival \t 7 \t 25\t-- \t 4 \t\t\t Busy\n",
            "27 \t 10 \t completion \t 3 \t --\t27 \t 3 \t\t\t Busy\n",
            "28 \t 11 \t arrival \t 8 \t 28\t-- \t 4 \t\t\t Busy\n",
            "30 \t 12 \t arrival \t 9 \t 30\t-- \t 5 \t\t\t Busy\n",
            "33 \t 13 \t arrival \t 10 \t 33\t-- \t 6 \t\t\t Busy\n",
            "42 \t 14 \t completion \t 4 \t --\t42 \t 5 \t\t\t Busy\n",
            "54 \t 15 \t completion \t 5 \t --\t54 \t 4 \t\t\t Busy\n",
            "70 \t 16 \t completion \t 6 \t --\t70 \t 3 \t\t\t Busy\n",
            "90 \t 17 \t completion \t 7 \t --\t90 \t 2 \t\t\t Busy\n",
            "101 \t 18 \t completion \t 8 \t --\t101 \t 1 \t\t\t Busy\n",
            "107 \t 19 \t completion \t 9 \t --\t107 \t 0 \t\t\t Busy\n",
            "115 \t 20 \t completion \t 10 \t --\t115 \t 0 \t\t\t Idle\n",
            "\n",
            "Simulation End\n",
            "a) The Time-Average number in the sysytem: 3.5\n",
            "b) The Average total time in the system: 44.9\n",
            "c) The Max queue length : 6\n",
            "d) The Max delay in queue: 74\n",
            "e) The Max time in the system: 82\n",
            "f) The proportion of customers having a delay in queue in excess of 1 minute: 3 : 10\n",
            "\n",
            " Simulation : 5\n",
            "Clock \t Event \t Status \t i \t ti \t Ci \tQPopulation \t\t State\n",
            "0 \t 0 \t Start \t\t -- \t --\t-- \t 0 \t\t\t Idle\n",
            "1 \t 1 \t arrival \t 1 \t 1\t-- \t 0 \t\t\t Busy\n",
            "6 \t 2 \t arrival \t 2 \t 6\t-- \t 1 \t\t\t Busy\n",
            "8 \t 3 \t arrival \t 3 \t 8\t-- \t 2 \t\t\t Busy\n",
            "12 \t 4 \t arrival \t 4 \t 12\t-- \t 3 \t\t\t Busy\n",
            "14 \t 5 \t completion \t 1 \t --\t14 \t 2 \t\t\t Busy\n",
            "16 \t 6 \t arrival \t 5 \t 16\t-- \t 3 \t\t\t Busy\n",
            "21 \t 7 \t arrival \t 6 \t 21\t-- \t 4 \t\t\t Busy\n",
            "23 \t 8 \t completion \t 2 \t --\t23 \t 3 \t\t\t Busy\n",
            "25 \t 9 \t arrival \t 7 \t 25\t-- \t 4 \t\t\t Busy\n",
            "28 \t 10 \t arrival \t 8 \t 28\t-- \t 5 \t\t\t Busy\n",
            "33 \t 11 \t arrival \t 9 \t 33\t-- \t 6 \t\t\t Busy\n",
            "34 \t 12 \t arrival \t 10 \t 34\t-- \t 7 \t\t\t Busy\n",
            "35 \t 13 \t completion \t 3 \t --\t35 \t 6 \t\t\t Busy\n",
            "41 \t 14 \t completion \t 4 \t --\t41 \t 5 \t\t\t Busy\n",
            "52 \t 15 \t completion \t 5 \t --\t52 \t 4 \t\t\t Busy\n",
            "62 \t 16 \t completion \t 6 \t --\t62 \t 3 \t\t\t Busy\n",
            "78 \t 17 \t completion \t 7 \t --\t78 \t 2 \t\t\t Busy\n",
            "91 \t 18 \t completion \t 8 \t --\t91 \t 1 \t\t\t Busy\n",
            "106 \t 19 \t completion \t 9 \t --\t106 \t 0 \t\t\t Busy\n",
            "122 \t 20 \t completion \t 10 \t --\t122 \t 0 \t\t\t Idle\n",
            "\n",
            "Simulation End\n",
            "a) The Time-Average number in the sysytem: 4.0\n",
            "b) The Average total time in the system: 44.0\n",
            "c) The Max queue length : 7\n",
            "d) The Max delay in queue: 72\n",
            "e) The Max time in the system: 88\n",
            "f) The proportion of customers having a delay in queue in excess of 1 minute: 1 : 10\n",
            "\n",
            " Simulation : 6\n",
            "Clock \t Event \t Status \t i \t ti \t Ci \tQPopulation \t\t State\n",
            "0 \t 0 \t Start \t\t -- \t --\t-- \t 0 \t\t\t Idle\n",
            "1 \t 1 \t arrival \t 1 \t 1\t-- \t 0 \t\t\t Busy\n",
            "2 \t 2 \t arrival \t 2 \t 2\t-- \t 1 \t\t\t Busy\n",
            "6 \t 3 \t arrival \t 3 \t 6\t-- \t 2 \t\t\t Busy\n",
            "7 \t 4 \t arrival \t 4 \t 7\t-- \t 3 \t\t\t Busy\n",
            "9 \t 5 \t arrival \t 5 \t 9\t-- \t 4 \t\t\t Busy\n",
            "11 \t 6 \t arrival \t 6 \t 11\t-- \t 5 \t\t\t Busy\n",
            "12 \t 7 \t arrival \t 7 \t 12\t-- \t 6 \t\t\t Busy\n",
            "13 \t 8 \t arrival \t 8 \t 13\t-- \t 7 \t\t\t Busy\n",
            "14 \t 9 \t arrival \t 9 \t 14\t-- \t 8 \t\t\t Busy\n",
            "14 \t 10 \t completion \t 1 \t --\t14 \t 7 \t\t\t Busy\n",
            "16 \t 11 \t arrival \t 10 \t 16\t-- \t 8 \t\t\t Busy\n",
            "20 \t 12 \t completion \t 2 \t --\t20 \t 7 \t\t\t Busy\n",
            "30 \t 13 \t completion \t 3 \t --\t30 \t 6 \t\t\t Busy\n",
            "43 \t 14 \t completion \t 4 \t --\t43 \t 5 \t\t\t Busy\n",
            "61 \t 15 \t completion \t 5 \t --\t61 \t 4 \t\t\t Busy\n",
            "75 \t 16 \t completion \t 6 \t --\t75 \t 3 \t\t\t Busy\n",
            "93 \t 17 \t completion \t 7 \t --\t93 \t 2 \t\t\t Busy\n",
            "106 \t 18 \t completion \t 8 \t --\t106 \t 1 \t\t\t Busy\n",
            "112 \t 19 \t completion \t 9 \t --\t112 \t 0 \t\t\t Busy\n",
            "132 \t 20 \t completion \t 10 \t --\t132 \t 0 \t\t\t Idle\n",
            "\n",
            "Simulation End\n",
            "a) The Time-Average number in the sysytem: 4.9\n",
            "b) The Average total time in the system: 59.5\n",
            "c) The Max queue length : 8\n",
            "d) The Max delay in queue: 96\n",
            "e) The Max time in the system: 116\n",
            "f) The proportion of customers having a delay in queue in excess of 1 minute: 4 : 10\n",
            "\n",
            " Simulation : 7\n",
            "Clock \t Event \t Status \t i \t ti \t Ci \tQPopulation \t\t State\n",
            "0 \t 0 \t Start \t\t -- \t --\t-- \t 0 \t\t\t Idle\n",
            "3 \t 1 \t arrival \t 1 \t 3\t-- \t 0 \t\t\t Busy\n",
            "5 \t 2 \t arrival \t 2 \t 5\t-- \t 1 \t\t\t Busy\n",
            "10 \t 3 \t arrival \t 3 \t 10\t-- \t 2 \t\t\t Busy\n",
            "12 \t 4 \t arrival \t 4 \t 12\t-- \t 3 \t\t\t Busy\n",
            "16 \t 5 \t completion \t 1 \t --\t16 \t 2 \t\t\t Busy\n",
            "17 \t 6 \t arrival \t 5 \t 17\t-- \t 3 \t\t\t Busy\n",
            "18 \t 7 \t arrival \t 6 \t 18\t-- \t 4 \t\t\t Busy\n",
            "20 \t 8 \t arrival \t 7 \t 20\t-- \t 5 \t\t\t Busy\n",
            "24 \t 9 \t arrival \t 8 \t 24\t-- \t 6 \t\t\t Busy\n",
            "29 \t 10 \t arrival \t 9 \t 29\t-- \t 7 \t\t\t Busy\n",
            "31 \t 11 \t completion \t 2 \t --\t31 \t 6 \t\t\t Busy\n",
            "34 \t 12 \t arrival \t 10 \t 34\t-- \t 7 \t\t\t Busy\n",
            "41 \t 13 \t completion \t 3 \t --\t41 \t 6 \t\t\t Busy\n",
            "56 \t 14 \t completion \t 4 \t --\t56 \t 5 \t\t\t Busy\n",
            "72 \t 15 \t completion \t 5 \t --\t72 \t 4 \t\t\t Busy\n",
            "86 \t 16 \t completion \t 6 \t --\t86 \t 3 \t\t\t Busy\n",
            "101 \t 17 \t completion \t 7 \t --\t101 \t 2 \t\t\t Busy\n",
            "120 \t 18 \t completion \t 8 \t --\t120 \t 1 \t\t\t Busy\n",
            "129 \t 19 \t completion \t 9 \t --\t129 \t 0 \t\t\t Busy\n",
            "148 \t 20 \t completion \t 10 \t --\t148 \t 0 \t\t\t Idle\n",
            "\n",
            "Simulation End\n",
            "a) The Time-Average number in the sysytem: 4.3\n",
            "b) The Average total time in the system: 62.8\n",
            "c) The Max queue length : 7\n",
            "d) The Max delay in queue: 95\n",
            "e) The Max time in the system: 114\n",
            "f) The proportion of customers having a delay in queue in excess of 1 minute: 4 : 10\n",
            "\n",
            " Simulation : 8\n",
            "Clock \t Event \t Status \t i \t ti \t Ci \tQPopulation \t\t State\n",
            "0 \t 0 \t Start \t\t -- \t --\t-- \t 0 \t\t\t Idle\n",
            "1 \t 1 \t arrival \t 1 \t 1\t-- \t 0 \t\t\t Busy\n",
            "3 \t 2 \t arrival \t 2 \t 3\t-- \t 1 \t\t\t Busy\n",
            "7 \t 3 \t arrival \t 3 \t 7\t-- \t 2 \t\t\t Busy\n",
            "10 \t 4 \t arrival \t 4 \t 10\t-- \t 3 \t\t\t Busy\n",
            "13 \t 5 \t arrival \t 5 \t 13\t-- \t 4 \t\t\t Busy\n",
            "15 \t 6 \t arrival \t 6 \t 15\t-- \t 5 \t\t\t Busy\n",
            "17 \t 7 \t arrival \t 7 \t 17\t-- \t 6 \t\t\t Busy\n",
            "18 \t 8 \t completion \t 1 \t --\t18 \t 5 \t\t\t Busy\n",
            "21 \t 9 \t arrival \t 8 \t 21\t-- \t 6 \t\t\t Busy\n",
            "22 \t 10 \t arrival \t 9 \t 22\t-- \t 7 \t\t\t Busy\n",
            "24 \t 11 \t completion \t 2 \t --\t24 \t 6 \t\t\t Busy\n",
            "27 \t 12 \t arrival \t 10 \t 27\t-- \t 7 \t\t\t Busy\n",
            "35 \t 13 \t completion \t 3 \t --\t35 \t 6 \t\t\t Busy\n",
            "45 \t 14 \t completion \t 4 \t --\t45 \t 5 \t\t\t Busy\n",
            "57 \t 15 \t completion \t 5 \t --\t57 \t 4 \t\t\t Busy\n",
            "66 \t 16 \t completion \t 6 \t --\t66 \t 3 \t\t\t Busy\n",
            "73 \t 17 \t completion \t 7 \t --\t73 \t 2 \t\t\t Busy\n",
            "85 \t 18 \t completion \t 8 \t --\t85 \t 1 \t\t\t Busy\n",
            "96 \t 19 \t completion \t 9 \t --\t96 \t 0 \t\t\t Busy\n",
            "116 \t 20 \t completion \t 10 \t --\t116 \t 0 \t\t\t Idle\n",
            "\n",
            "Simulation End\n",
            "a) The Time-Average number in the sysytem: 4.6\n",
            "b) The Average total time in the system: 47.9\n",
            "c) The Max queue length : 7\n",
            "d) The Max delay in queue: 69\n",
            "e) The Max time in the system: 89\n",
            "f) The proportion of customers having a delay in queue in excess of 1 minute: 2 : 10\n",
            "\n",
            " Simulation : 9\n",
            "Clock \t Event \t Status \t i \t ti \t Ci \tQPopulation \t\t State\n",
            "0 \t 0 \t Start \t\t -- \t --\t-- \t 0 \t\t\t Idle\n",
            "3 \t 1 \t arrival \t 1 \t 3\t-- \t 0 \t\t\t Busy\n",
            "5 \t 2 \t arrival \t 2 \t 5\t-- \t 1 \t\t\t Busy\n",
            "9 \t 3 \t arrival \t 3 \t 9\t-- \t 2 \t\t\t Busy\n",
            "10 \t 4 \t arrival \t 4 \t 10\t-- \t 3 \t\t\t Busy\n",
            "11 \t 5 \t completion \t 1 \t --\t11 \t 2 \t\t\t Busy\n",
            "15 \t 6 \t arrival \t 5 \t 15\t-- \t 3 \t\t\t Busy\n",
            "17 \t 7 \t arrival \t 6 \t 17\t-- \t 4 \t\t\t Busy\n",
            "21 \t 8 \t arrival \t 7 \t 21\t-- \t 5 \t\t\t Busy\n",
            "22 \t 9 \t arrival \t 8 \t 22\t-- \t 6 \t\t\t Busy\n",
            "23 \t 10 \t arrival \t 9 \t 23\t-- \t 7 \t\t\t Busy\n",
            "24 \t 11 \t arrival \t 10 \t 24\t-- \t 8 \t\t\t Busy\n",
            "27 \t 12 \t completion \t 2 \t --\t27 \t 7 \t\t\t Busy\n",
            "46 \t 13 \t completion \t 3 \t --\t46 \t 6 \t\t\t Busy\n",
            "62 \t 14 \t completion \t 4 \t --\t62 \t 5 \t\t\t Busy\n",
            "71 \t 15 \t completion \t 5 \t --\t71 \t 4 \t\t\t Busy\n",
            "91 \t 16 \t completion \t 6 \t --\t91 \t 3 \t\t\t Busy\n",
            "110 \t 17 \t completion \t 7 \t --\t110 \t 2 \t\t\t Busy\n",
            "127 \t 18 \t completion \t 8 \t --\t127 \t 1 \t\t\t Busy\n",
            "145 \t 19 \t completion \t 9 \t --\t145 \t 0 \t\t\t Busy\n",
            "157 \t 20 \t completion \t 10 \t --\t157 \t 0 \t\t\t Idle\n",
            "\n",
            "Simulation End\n",
            "a) The Time-Average number in the sysytem: 4.4\n",
            "b) The Average total time in the system: 69.8\n",
            "c) The Max queue length : 8\n",
            "d) The Max delay in queue: 121\n",
            "e) The Max time in the system: 133\n",
            "f) The proportion of customers having a delay in queue in excess of 1 minute: 4 : 10\n"
          ],
          "name": "stdout"
        }
      ]
    }
  ]
}